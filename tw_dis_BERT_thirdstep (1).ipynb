{
 "cells": [
  {
   "cell_type": "code",
   "execution_count": 1,
   "metadata": {
    "colab": {},
    "colab_type": "code",
    "id": "fvFvBLJV0Dkv"
   },
   "outputs": [],
   "source": [
    "import numpy as np\n",
    "import pandas as pd\n",
    "from sklearn.model_selection import train_test_split\n",
    "from sklearn.linear_model import LogisticRegression\n",
    "from sklearn.model_selection import GridSearchCV\n",
    "from sklearn.model_selection import cross_val_score\n",
    "import warnings\n",
    "warnings.filterwarnings('ignore')"
   ]
  },
  {
   "cell_type": "code",
   "execution_count": null,
   "metadata": {},
   "outputs": [],
   "source": []
  },
  {
   "cell_type": "code",
   "execution_count": 2,
   "metadata": {
    "colab": {},
    "colab_type": "code",
    "id": "ySOreuVF_G2L"
   },
   "outputs": [],
   "source": [
    "features = pd.read_csv('features_prep_join.csv')\n"
   ]
  },
  {
   "cell_type": "code",
   "execution_count": 3,
   "metadata": {},
   "outputs": [],
   "source": [
    "df = pd.read_csv('data_proc2.csv')"
   ]
  },
  {
   "cell_type": "code",
   "execution_count": 4,
   "metadata": {},
   "outputs": [
    {
     "data": {
      "text/plain": [
       "(10876, 769)"
      ]
     },
     "execution_count": 4,
     "metadata": {},
     "output_type": "execute_result"
    }
   ],
   "source": [
    "features.shape"
   ]
  },
  {
   "cell_type": "markdown",
   "metadata": {
    "colab_type": "text",
    "id": "_VZVU66Gurr-"
   },
   "source": [
    "The labels indicating which sentence is positive and negative now go into the `labels` variable"
   ]
  },
  {
   "cell_type": "code",
   "execution_count": 5,
   "metadata": {
    "colab": {},
    "colab_type": "code",
    "id": "JD3fX2yh6PTx"
   },
   "outputs": [],
   "source": [
    "labels = df[\"target\"]"
   ]
  },
  {
   "cell_type": "code",
   "execution_count": 6,
   "metadata": {
    "colab": {},
    "colab_type": "code",
    "id": "if32g5UZnAxI"
   },
   "outputs": [
    {
     "name": "stdout",
     "output_type": "stream",
     "text": [
      "7577\n"
     ]
    }
   ],
   "source": [
    "#7613 - 36 удаленных\n",
    "l = 7577\n",
    "train_f = features[:l]\n",
    "test_f = features[l:]\n",
    "\n",
    "train_l = labels[:l]\n",
    "test_l = labels[l:]\n",
    "\n",
    "print(len(train_l))"
   ]
  },
  {
   "cell_type": "markdown",
   "metadata": {
    "colab_type": "text",
    "id": "iaoEvM2evRx1"
   },
   "source": [
    "## Model #2: Train/Test Split\n",
    "Let's now split our datset into a training set and testing set (even though we're using 2,000 sentences from the SST2 training set)."
   ]
  },
  {
   "cell_type": "code",
   "execution_count": 7,
   "metadata": {
    "colab": {},
    "colab_type": "code",
    "id": "ddAqbkoU6PP9"
   },
   "outputs": [],
   "source": [
    "train_features, test_features, train_labels, test_labels = train_test_split(train_f, train_l, shuffle=\"False\")"
   ]
  },
  {
   "cell_type": "code",
   "execution_count": 8,
   "metadata": {
    "colab": {},
    "colab_type": "code",
    "id": "cyEwr7yYD3Ci"
   },
   "outputs": [
    {
     "name": "stdout",
     "output_type": "stream",
     "text": [
      "best parameters:  {'C': 5.263252631578947}\n",
      "best scrores:  0.595390018209521\n"
     ]
    }
   ],
   "source": [
    "parameters = {'C': np.linspace(0.0001, 100, 20)}\n",
    "grid_search = GridSearchCV(LogisticRegression(), parameters)\n",
    "grid_search.fit(train_features, train_labels)\n",
    "\n",
    "print('best parameters: ', grid_search.best_params_)\n",
    "print('best scrores: ', grid_search.best_score_)"
   ]
  },
  {
   "cell_type": "markdown",
   "metadata": {
    "colab_type": "text",
    "id": "KCT9u8vAwnID"
   },
   "source": [
    "We now train the LogisticRegression model. If you've chosen to do the gridsearch, you can plug the value of C into the model declaration (e.g. `LogisticRegression(C=5.2)`)."
   ]
  },
  {
   "cell_type": "code",
   "execution_count": 9,
   "metadata": {
    "colab": {},
    "colab_type": "code",
    "id": "gG-EVWx4CzBc"
   },
   "outputs": [
    {
     "data": {
      "text/plain": [
       "LogisticRegression(C=5.263252631578947, class_weight=None, dual=False,\n",
       "                   fit_intercept=True, intercept_scaling=1, l1_ratio=None,\n",
       "                   max_iter=100, multi_class='auto', n_jobs=None, penalty='l2',\n",
       "                   random_state=None, solver='lbfgs', tol=0.0001, verbose=0,\n",
       "                   warm_start=False)"
      ]
     },
     "execution_count": 9,
     "metadata": {},
     "output_type": "execute_result"
    }
   ],
   "source": [
    "lr_clf = LogisticRegression( C = grid_search.best_params_['C'])\n",
    "lr_clf.fit(train_features, train_labels)"
   ]
  },
  {
   "cell_type": "code",
   "execution_count": 10,
   "metadata": {
    "colab": {},
    "colab_type": "code",
    "id": "iCoyxRJ7ECTA"
   },
   "outputs": [
    {
     "data": {
      "text/plain": [
       "0.6226912928759895"
      ]
     },
     "execution_count": 10,
     "metadata": {},
     "output_type": "execute_result"
    }
   ],
   "source": [
    "lr_clf.score(test_features, test_labels)"
   ]
  },
  {
   "cell_type": "code",
   "execution_count": null,
   "metadata": {},
   "outputs": [],
   "source": []
  },
  {
   "cell_type": "markdown",
   "metadata": {
    "colab_type": "text",
    "id": "75oyhr3VxHoE"
   },
   "source": [
    "How good is this score? What can we compare it against? Let's first look at a Naive Baiyes:"
   ]
  },
  {
   "cell_type": "code",
   "execution_count": 11,
   "metadata": {
    "colab": {},
    "colab_type": "code",
    "id": "lnwgmqNG7i5l"
   },
   "outputs": [
    {
     "name": "stdout",
     "output_type": "stream",
     "text": [
      "GNB classifier score: 0.585 (+/- 0.02)\n"
     ]
    }
   ],
   "source": [
    "from sklearn.naive_bayes import GaussianNB\n",
    "clf = GaussianNB()\n",
    "\n",
    "scores = cross_val_score(clf, train_features, train_labels)\n",
    "print(\"GNB classifier score: %0.3f (+/- %0.2f)\" % (scores.mean(), scores.std() * 2))"
   ]
  },
  {
   "cell_type": "code",
   "execution_count": 12,
   "metadata": {
    "colab": {},
    "colab_type": "code",
    "id": "6lbRqInYVet4"
   },
   "outputs": [
    {
     "data": {
      "text/plain": [
       "(1895, 1)"
      ]
     },
     "execution_count": 12,
     "metadata": {},
     "output_type": "execute_result"
    }
   ],
   "source": [
    "np.array(test_labels).reshape(-1, 1).shape"
   ]
  },
  {
   "cell_type": "code",
   "execution_count": 15,
   "metadata": {
    "colab": {},
    "colab_type": "code",
    "id": "cyEwr7yYD3Ci"
   },
   "outputs": [
    {
     "name": "stdout",
     "output_type": "stream",
     "text": [
      "0.001 0.001\n",
      "0.5828935795954265\n",
      "0.001 0.0001\n",
      "0.5948624685668984\n",
      "11.111999999999998 0.001\n",
      "0.5878223828458881\n",
      "11.111999999999998 0.0001\n",
      "0.5913428902349895\n",
      "22.223 0.001\n",
      "0.5878223828458881\n",
      "22.223 0.0001\n",
      "0.5931040729867332\n",
      "33.333999999999996 0.001\n",
      "0.5878223828458881\n",
      "33.333999999999996 0.0001\n",
      "0.5904636924449068\n",
      "44.44499999999999 0.001\n",
      "0.5878223828458881\n",
      "44.44499999999999 0.0001\n",
      "0.5908161148066942\n",
      "55.55599999999999 0.001\n",
      "0.5878223828458881\n",
      "55.55599999999999 0.0001\n",
      "0.5922220880250721\n",
      "66.667 0.001\n",
      "0.5878223828458881\n",
      "66.667 0.0001\n",
      "0.5934571147199821\n",
      "77.77799999999999 0.001\n",
      "0.5878223828458881\n",
      "77.77799999999999 0.0001\n",
      "0.5922248751966505\n",
      "88.889 0.001\n",
      "0.5878223828458881\n",
      "88.889 0.0001\n",
      "0.594335383452872\n",
      "100.0 0.001\n",
      "0.5878223828458881\n",
      "100.0 0.0001\n",
      "0.5920475801156986\n"
     ]
    }
   ],
   "source": [
    "paramC = np.linspace(0.001, 100, 10)\n",
    "paramtol =  [1e-3, 1e-4]\n",
    "from sklearn.svm import LinearSVC\n",
    "results=[]\n",
    "\n",
    "for c in paramC:\n",
    "    for t in paramtol:\n",
    "        print(c,t)\n",
    "        svc = LinearSVC(dual = False, C = c, tol = t)\n",
    "        scores = cross_val_score(svc, train_features, train_labels)\n",
    "        results.append([svc.get_params, scores])\n",
    "        print(scores.mean())"
   ]
  },
  {
   "cell_type": "code",
   "execution_count": 66,
   "metadata": {},
   "outputs": [
    {
     "name": "stdout",
     "output_type": "stream",
     "text": [
      "0.5705736618479567 <bound method BaseEstimator.get_params of LinearSVC(C=0.001, class_weight=None, dual=False, fit_intercept=True,\n",
      "          intercept_scaling=1, loss='squared_hinge', max_iter=1000,\n",
      "          multi_class='ovr', penalty='l2', random_state=None, tol=0.01,\n",
      "          verbose=0)>\n",
      "0.7777233763177127 <bound method BaseEstimator.get_params of LinearSVC(C=0.001, class_weight=None, dual=False, fit_intercept=True,\n",
      "          intercept_scaling=1, loss='squared_hinge', max_iter=1000,\n",
      "          multi_class='ovr', penalty='l2', random_state=None, tol=0.001,\n",
      "          verbose=0)>\n",
      "0.8028895227123515 <bound method BaseEstimator.get_params of LinearSVC(C=0.001, class_weight=None, dual=False, fit_intercept=True,\n",
      "          intercept_scaling=1, loss='squared_hinge', max_iter=1000,\n",
      "          multi_class='ovr', penalty='l2', random_state=None, tol=0.0001,\n",
      "          verbose=0)>\n",
      "0.5705736618479567 <bound method BaseEstimator.get_params of LinearSVC(C=11.111999999999998, class_weight=None, dual=False,\n",
      "          fit_intercept=True, intercept_scaling=1, loss='squared_hinge',\n",
      "          max_iter=1000, multi_class='ovr', penalty='l2', random_state=None,\n",
      "          tol=0.01, verbose=0)>\n",
      "0.7819490381161198 <bound method BaseEstimator.get_params of LinearSVC(C=11.111999999999998, class_weight=None, dual=False,\n",
      "          fit_intercept=True, intercept_scaling=1, loss='squared_hinge',\n",
      "          max_iter=1000, multi_class='ovr', penalty='l2', random_state=None,\n",
      "          tol=0.001, verbose=0)>\n",
      "0.8034195498408214 <bound method BaseEstimator.get_params of LinearSVC(C=11.111999999999998, class_weight=None, dual=False,\n",
      "          fit_intercept=True, intercept_scaling=1, loss='squared_hinge',\n",
      "          max_iter=1000, multi_class='ovr', penalty='l2', random_state=None,\n",
      "          tol=0.0001, verbose=0)>\n",
      "0.5705736618479567 <bound method BaseEstimator.get_params of LinearSVC(C=22.223, class_weight=None, dual=False, fit_intercept=True,\n",
      "          intercept_scaling=1, loss='squared_hinge', max_iter=1000,\n",
      "          multi_class='ovr', penalty='l2', random_state=None, tol=0.01,\n",
      "          verbose=0)>\n",
      "0.7868786155809084 <bound method BaseEstimator.get_params of LinearSVC(C=22.223, class_weight=None, dual=False, fit_intercept=True,\n",
      "          intercept_scaling=1, loss='squared_hinge', max_iter=1000,\n",
      "          multi_class='ovr', penalty='l2', random_state=None, tol=0.001,\n",
      "          verbose=0)>\n",
      "0.8078181711199475 <bound method BaseEstimator.get_params of LinearSVC(C=22.223, class_weight=None, dual=False, fit_intercept=True,\n",
      "          intercept_scaling=1, loss='squared_hinge', max_iter=1000,\n",
      "          multi_class='ovr', penalty='l2', random_state=None, tol=0.0001,\n",
      "          verbose=0)>\n",
      "0.5705736618479567 <bound method BaseEstimator.get_params of LinearSVC(C=33.333999999999996, class_weight=None, dual=False,\n",
      "          fit_intercept=True, intercept_scaling=1, loss='squared_hinge',\n",
      "          max_iter=1000, multi_class='ovr', penalty='l2', random_state=None,\n",
      "          tol=0.01, verbose=0)>\n",
      "0.7819490381161198 <bound method BaseEstimator.get_params of LinearSVC(C=33.333999999999996, class_weight=None, dual=False,\n",
      "          fit_intercept=True, intercept_scaling=1, loss='squared_hinge',\n",
      "          max_iter=1000, multi_class='ovr', penalty='l2', random_state=None,\n",
      "          tol=0.001, verbose=0)>\n",
      "0.8037707334596851 <bound method BaseEstimator.get_params of LinearSVC(C=33.333999999999996, class_weight=None, dual=False,\n",
      "          fit_intercept=True, intercept_scaling=1, loss='squared_hinge',\n",
      "          max_iter=1000, multi_class='ovr', penalty='l2', random_state=None,\n",
      "          tol=0.0001, verbose=0)>\n",
      "0.5705736618479567 <bound method BaseEstimator.get_params of LinearSVC(C=44.44499999999999, class_weight=None, dual=False,\n",
      "          fit_intercept=True, intercept_scaling=1, loss='squared_hinge',\n",
      "          max_iter=1000, multi_class='ovr', penalty='l2', random_state=None,\n",
      "          tol=0.01, verbose=0)>\n",
      "0.7867025592428804 <bound method BaseEstimator.get_params of LinearSVC(C=44.44499999999999, class_weight=None, dual=False,\n",
      "          fit_intercept=True, intercept_scaling=1, loss='squared_hinge',\n",
      "          max_iter=1000, multi_class='ovr', penalty='l2', random_state=None,\n",
      "          tol=0.001, verbose=0)>\n",
      "0.8069392830155959 <bound method BaseEstimator.get_params of LinearSVC(C=44.44499999999999, class_weight=None, dual=False,\n",
      "          fit_intercept=True, intercept_scaling=1, loss='squared_hinge',\n",
      "          max_iter=1000, multi_class='ovr', penalty='l2', random_state=None,\n",
      "          tol=0.0001, verbose=0)>\n",
      "0.5705736618479567 <bound method BaseEstimator.get_params of LinearSVC(C=55.55599999999999, class_weight=None, dual=False,\n",
      "          fit_intercept=True, intercept_scaling=1, loss='squared_hinge',\n",
      "          max_iter=1000, multi_class='ovr', penalty='l2', random_state=None,\n",
      "          tol=0.01, verbose=0)>\n",
      "0.7819490381161198 <bound method BaseEstimator.get_params of LinearSVC(C=55.55599999999999, class_weight=None, dual=False,\n",
      "          fit_intercept=True, intercept_scaling=1, loss='squared_hinge',\n",
      "          max_iter=1000, multi_class='ovr', penalty='l2', random_state=None,\n",
      "          tol=0.001, verbose=0)>\n",
      "0.8055311419971014 <bound method BaseEstimator.get_params of LinearSVC(C=55.55599999999999, class_weight=None, dual=False,\n",
      "          fit_intercept=True, intercept_scaling=1, loss='squared_hinge',\n",
      "          max_iter=1000, multi_class='ovr', penalty='l2', random_state=None,\n",
      "          tol=0.0001, verbose=0)>\n",
      "0.5705736618479567 <bound method BaseEstimator.get_params of LinearSVC(C=66.667, class_weight=None, dual=False, fit_intercept=True,\n",
      "          intercept_scaling=1, loss='squared_hinge', max_iter=1000,\n",
      "          multi_class='ovr', penalty='l2', random_state=None, tol=0.01,\n",
      "          verbose=0)>\n",
      "0.7819490381161198 <bound method BaseEstimator.get_params of LinearSVC(C=66.667, class_weight=None, dual=False, fit_intercept=True,\n",
      "          intercept_scaling=1, loss='squared_hinge', max_iter=1000,\n",
      "          multi_class='ovr', penalty='l2', random_state=None, tol=0.001,\n",
      "          verbose=0)>\n",
      "0.8058829449874267 <bound method BaseEstimator.get_params of LinearSVC(C=66.667, class_weight=None, dual=False, fit_intercept=True,\n",
      "          intercept_scaling=1, loss='squared_hinge', max_iter=1000,\n",
      "          multi_class='ovr', penalty='l2', random_state=None, tol=0.0001,\n",
      "          verbose=0)>\n",
      "0.5705736618479567 <bound method BaseEstimator.get_params of LinearSVC(C=77.77799999999999, class_weight=None, dual=False,\n",
      "          fit_intercept=True, intercept_scaling=1, loss='squared_hinge',\n",
      "          max_iter=1000, multi_class='ovr', penalty='l2', random_state=None,\n",
      "          tol=0.01, verbose=0)>\n",
      "0.7819490381161198 <bound method BaseEstimator.get_params of LinearSVC(C=77.77799999999999, class_weight=None, dual=False,\n",
      "          fit_intercept=True, intercept_scaling=1, loss='squared_hinge',\n",
      "          max_iter=1000, multi_class='ovr', penalty='l2', random_state=None,\n",
      "          tol=0.001, verbose=0)>\n",
      "0.8072909311630557 <bound method BaseEstimator.get_params of LinearSVC(C=77.77799999999999, class_weight=None, dual=False,\n",
      "          fit_intercept=True, intercept_scaling=1, loss='squared_hinge',\n",
      "          max_iter=1000, multi_class='ovr', penalty='l2', random_state=None,\n",
      "          tol=0.0001, verbose=0)>\n",
      "0.5705736618479567 <bound method BaseEstimator.get_params of LinearSVC(C=88.889, class_weight=None, dual=False, fit_intercept=True,\n",
      "          intercept_scaling=1, loss='squared_hinge', max_iter=1000,\n",
      "          multi_class='ovr', penalty='l2', random_state=None, tol=0.01,\n",
      "          verbose=0)>\n",
      "0.7868786155809084 <bound method BaseEstimator.get_params of LinearSVC(C=88.889, class_weight=None, dual=False, fit_intercept=True,\n",
      "          intercept_scaling=1, loss='squared_hinge', max_iter=1000,\n",
      "          multi_class='ovr', penalty='l2', random_state=None, tol=0.001,\n",
      "          verbose=0)>\n",
      "0.806587015496674 <bound method BaseEstimator.get_params of LinearSVC(C=88.889, class_weight=None, dual=False, fit_intercept=True,\n",
      "          intercept_scaling=1, loss='squared_hinge', max_iter=1000,\n",
      "          multi_class='ovr', penalty='l2', random_state=None, tol=0.0001,\n",
      "          verbose=0)>\n",
      "0.5705736618479567 <bound method BaseEstimator.get_params of LinearSVC(C=100.0, class_weight=None, dual=False, fit_intercept=True,\n",
      "          intercept_scaling=1, loss='squared_hinge', max_iter=1000,\n",
      "          multi_class='ovr', penalty='l2', random_state=None, tol=0.01,\n",
      "          verbose=0)>\n",
      "0.7868786155809084 <bound method BaseEstimator.get_params of LinearSVC(C=100.0, class_weight=None, dual=False, fit_intercept=True,\n",
      "          intercept_scaling=1, loss='squared_hinge', max_iter=1000,\n",
      "          multi_class='ovr', penalty='l2', random_state=None, tol=0.001,\n",
      "          verbose=0)>\n",
      "0.8035954513359844 <bound method BaseEstimator.get_params of LinearSVC(C=100.0, class_weight=None, dual=False, fit_intercept=True,\n",
      "          intercept_scaling=1, loss='squared_hinge', max_iter=1000,\n",
      "          multi_class='ovr', penalty='l2', random_state=None, tol=0.0001,\n",
      "          verbose=0)>\n"
     ]
    }
   ],
   "source": [
    "for i in results:\n",
    "    print(i[1].mean(), i[0])"
   ]
  },
  {
   "cell_type": "code",
   "execution_count": 69,
   "metadata": {
    "colab": {},
    "colab_type": "code",
    "id": "hhqoUprVTUE_"
   },
   "outputs": [
    {
     "name": "stdout",
     "output_type": "stream",
     "text": [
      "(1895, 770) (1895,)\n",
      "LinearSVC classifier score: 0.808 (+/- 0.00)\n"
     ]
    }
   ],
   "source": [
    "from sklearn.svm import LinearSVC\n",
    "clf = LinearSVC(C=78, class_weight=None, dual=False, fit_intercept=True,\n",
    "          intercept_scaling=1, loss='squared_hinge', max_iter=1000,\n",
    "          multi_class='ovr', penalty='l2', random_state=None, tol=0.0001)\n",
    "clf.fit(train_features, np.array(train_labels).reshape(-1, 1))\n",
    "print(test_features.shape, test_labels.shape)\n",
    "scores = clf.score(test_features, np.array(test_labels).reshape(-1, 1))\n",
    "print(\"LinearSVC classifier score: %0.3f (+/- %0.2f)\" % (scores.mean(), scores.std() * 2))"
   ]
  },
  {
   "cell_type": "code",
   "execution_count": 18,
   "metadata": {},
   "outputs": [
    {
     "name": "stdout",
     "output_type": "stream",
     "text": [
      "SGD classifier score: 0.420 (+/- 0.00)\n"
     ]
    }
   ],
   "source": [
    "from sklearn.linear_model import SGDClassifier\n",
    "sgd_clf = SGDClassifier(max_iter=1000, tol=1e-3)\n",
    "sgd_clf.fit(train_features, np.array(train_labels).reshape(-1, 1))\n",
    "\n",
    "scores = sgd_clf.score(test_features, np.array(test_labels).reshape(-1, 1))\n",
    "print(\"SGD classifier score: %0.3f (+/- %0.2f)\" % (scores.mean(), scores.std() * 2))"
   ]
  },
  {
   "cell_type": "code",
   "execution_count": 58,
   "metadata": {},
   "outputs": [
    {
     "data": {
      "text/plain": [
       "3263"
      ]
     },
     "execution_count": 58,
     "metadata": {},
     "output_type": "execute_result"
    }
   ],
   "source": [
    "Y_pred = clf.predict(test_f)\n",
    "len(Y_pred)"
   ]
  },
  {
   "cell_type": "code",
   "execution_count": null,
   "metadata": {},
   "outputs": [],
   "source": [
    "Y_pred = lr_clf.predict(test_f)\n",
    "len(Y_pred)"
   ]
  },
  {
   "cell_type": "code",
   "execution_count": 62,
   "metadata": {
    "colab": {},
    "colab_type": "code",
    "id": "E8qw5FRmr2Iw"
   },
   "outputs": [],
   "source": [
    "import time\n",
    "submission = pd.DataFrame({\"id\": df[\"id\"][l:], \"target\": Y_pred }, dtype = \"int\")\n",
    "fname = '' + time.ctime() + 'submission.csv'\n",
    "submission.to_csv(fname, index=False, header=\"id,target\")"
   ]
  },
  {
   "cell_type": "markdown",
   "metadata": {
    "colab_type": "text",
    "id": "7Lg4LOpoxSOR"
   },
   "source": [
    "So our model clearly does better than a dummy classifier. But how does it compare against the best models?\n",
    "\n",
    "## Proper SST2 scores\n",
    "For reference, the [highest accuracy score](http://nlpprogress.com/english/sentiment_analysis.html) for this dataset is currently **96.8**. DistilBERT can be trained to improve its score on this task – a process called **fine-tuning** which updates BERT’s weights to make it achieve a better performance in this sentence classification task (which we can call the downstream task). The fine-tuned DistilBERT turns out to achieve an accuracy score of **90.7**. The full size BERT model achieves **94.9**.\n",
    "\n",
    "\n",
    "\n",
    "And that’s it! That’s a good first contact with BERT. The next step would be to head over to the documentation and try your hand at [fine-tuning](https://huggingface.co/transformers/examples.html#glue). You can also go back and switch from distilBERT to BERT and see how that works."
   ]
  },
  {
   "cell_type": "code",
   "execution_count": null,
   "metadata": {
    "colab": {},
    "colab_type": "code",
    "id": "EJQuqV6cnWQu"
   },
   "outputs": [],
   "source": []
  },
  {
   "cell_type": "code",
   "execution_count": null,
   "metadata": {
    "colab": {},
    "colab_type": "code",
    "id": "u4xpfJB5Nrjd"
   },
   "outputs": [],
   "source": []
  },
  {
   "cell_type": "code",
   "execution_count": null,
   "metadata": {
    "colab": {},
    "colab_type": "code",
    "id": "4EAo6_7_Ey3G"
   },
   "outputs": [],
   "source": []
  }
 ],
 "metadata": {
  "colab": {
   "collapsed_sections": [],
   "machine_shape": "hm",
   "name": "tw_dis_BERT_for_the_Second_Time.ipynb",
   "provenance": [
    {
     "file_id": "1zHFEC8SI0i5LNxmEIKJFNivOTrkbNsM1",
     "timestamp": 1589964654872
    }
   ],
   "toc_visible": true
  },
  "kernelspec": {
   "display_name": "Python 3",
   "language": "python",
   "name": "python3"
  },
  "language_info": {
   "codemirror_mode": {
    "name": "ipython",
    "version": 3
   },
   "file_extension": ".py",
   "mimetype": "text/x-python",
   "name": "python",
   "nbconvert_exporter": "python",
   "pygments_lexer": "ipython3",
   "version": "3.7.4"
  },
  "widgets": {
   "application/vnd.jupyter.widget-state+json": {
    "169b03c1d256403388c54f094d15b7ac": {
     "model_module": "@jupyter-widgets/base",
     "model_name": "LayoutModel",
     "state": {
      "_model_module": "@jupyter-widgets/base",
      "_model_module_version": "1.2.0",
      "_model_name": "LayoutModel",
      "_view_count": null,
      "_view_module": "@jupyter-widgets/base",
      "_view_module_version": "1.2.0",
      "_view_name": "LayoutView",
      "align_content": null,
      "align_items": null,
      "align_self": null,
      "border": null,
      "bottom": null,
      "display": null,
      "flex": null,
      "flex_flow": null,
      "grid_area": null,
      "grid_auto_columns": null,
      "grid_auto_flow": null,
      "grid_auto_rows": null,
      "grid_column": null,
      "grid_gap": null,
      "grid_row": null,
      "grid_template_areas": null,
      "grid_template_columns": null,
      "grid_template_rows": null,
      "height": null,
      "justify_content": null,
      "justify_items": null,
      "left": null,
      "margin": null,
      "max_height": null,
      "max_width": null,
      "min_height": null,
      "min_width": null,
      "object_fit": null,
      "object_position": null,
      "order": null,
      "overflow": null,
      "overflow_x": null,
      "overflow_y": null,
      "padding": null,
      "right": null,
      "top": null,
      "visibility": null,
      "width": null
     }
    },
    "17e6743d373c47cf981dc12e985c7d08": {
     "model_module": "@jupyter-widgets/controls",
     "model_name": "FloatProgressModel",
     "state": {
      "_dom_classes": [],
      "_model_module": "@jupyter-widgets/controls",
      "_model_module_version": "1.5.0",
      "_model_name": "FloatProgressModel",
      "_view_count": null,
      "_view_module": "@jupyter-widgets/controls",
      "_view_module_version": "1.5.0",
      "_view_name": "ProgressView",
      "bar_style": "success",
      "description": "Downloading: 100%",
      "description_tooltip": null,
      "layout": "IPY_MODEL_769fe089d96c4dca98f1fc8e701071a1",
      "max": 231508,
      "min": 0,
      "orientation": "horizontal",
      "style": "IPY_MODEL_ee4d1f70124043f4b6c6ddc7ce88d07a",
      "value": 231508
     }
    },
    "40827c7bd5e74d86a25d67ab7ef446cc": {
     "model_module": "@jupyter-widgets/base",
     "model_name": "LayoutModel",
     "state": {
      "_model_module": "@jupyter-widgets/base",
      "_model_module_version": "1.2.0",
      "_model_name": "LayoutModel",
      "_view_count": null,
      "_view_module": "@jupyter-widgets/base",
      "_view_module_version": "1.2.0",
      "_view_name": "LayoutView",
      "align_content": null,
      "align_items": null,
      "align_self": null,
      "border": null,
      "bottom": null,
      "display": null,
      "flex": null,
      "flex_flow": null,
      "grid_area": null,
      "grid_auto_columns": null,
      "grid_auto_flow": null,
      "grid_auto_rows": null,
      "grid_column": null,
      "grid_gap": null,
      "grid_row": null,
      "grid_template_areas": null,
      "grid_template_columns": null,
      "grid_template_rows": null,
      "height": null,
      "justify_content": null,
      "justify_items": null,
      "left": null,
      "margin": null,
      "max_height": null,
      "max_width": null,
      "min_height": null,
      "min_width": null,
      "object_fit": null,
      "object_position": null,
      "order": null,
      "overflow": null,
      "overflow_x": null,
      "overflow_y": null,
      "padding": null,
      "right": null,
      "top": null,
      "visibility": null,
      "width": null
     }
    },
    "45b3e61b0abe458f877765fd403372f3": {
     "model_module": "@jupyter-widgets/base",
     "model_name": "LayoutModel",
     "state": {
      "_model_module": "@jupyter-widgets/base",
      "_model_module_version": "1.2.0",
      "_model_name": "LayoutModel",
      "_view_count": null,
      "_view_module": "@jupyter-widgets/base",
      "_view_module_version": "1.2.0",
      "_view_name": "LayoutView",
      "align_content": null,
      "align_items": null,
      "align_self": null,
      "border": null,
      "bottom": null,
      "display": null,
      "flex": null,
      "flex_flow": null,
      "grid_area": null,
      "grid_auto_columns": null,
      "grid_auto_flow": null,
      "grid_auto_rows": null,
      "grid_column": null,
      "grid_gap": null,
      "grid_row": null,
      "grid_template_areas": null,
      "grid_template_columns": null,
      "grid_template_rows": null,
      "height": null,
      "justify_content": null,
      "justify_items": null,
      "left": null,
      "margin": null,
      "max_height": null,
      "max_width": null,
      "min_height": null,
      "min_width": null,
      "object_fit": null,
      "object_position": null,
      "order": null,
      "overflow": null,
      "overflow_x": null,
      "overflow_y": null,
      "padding": null,
      "right": null,
      "top": null,
      "visibility": null,
      "width": null
     }
    },
    "4641e4bee6a04e878bc12ba41335cfc5": {
     "model_module": "@jupyter-widgets/base",
     "model_name": "LayoutModel",
     "state": {
      "_model_module": "@jupyter-widgets/base",
      "_model_module_version": "1.2.0",
      "_model_name": "LayoutModel",
      "_view_count": null,
      "_view_module": "@jupyter-widgets/base",
      "_view_module_version": "1.2.0",
      "_view_name": "LayoutView",
      "align_content": null,
      "align_items": null,
      "align_self": null,
      "border": null,
      "bottom": null,
      "display": null,
      "flex": null,
      "flex_flow": null,
      "grid_area": null,
      "grid_auto_columns": null,
      "grid_auto_flow": null,
      "grid_auto_rows": null,
      "grid_column": null,
      "grid_gap": null,
      "grid_row": null,
      "grid_template_areas": null,
      "grid_template_columns": null,
      "grid_template_rows": null,
      "height": null,
      "justify_content": null,
      "justify_items": null,
      "left": null,
      "margin": null,
      "max_height": null,
      "max_width": null,
      "min_height": null,
      "min_width": null,
      "object_fit": null,
      "object_position": null,
      "order": null,
      "overflow": null,
      "overflow_x": null,
      "overflow_y": null,
      "padding": null,
      "right": null,
      "top": null,
      "visibility": null,
      "width": null
     }
    },
    "572b6ac8cb0941b7899f66ce2643a51b": {
     "model_module": "@jupyter-widgets/controls",
     "model_name": "DescriptionStyleModel",
     "state": {
      "_model_module": "@jupyter-widgets/controls",
      "_model_module_version": "1.5.0",
      "_model_name": "DescriptionStyleModel",
      "_view_count": null,
      "_view_module": "@jupyter-widgets/base",
      "_view_module_version": "1.2.0",
      "_view_name": "StyleView",
      "description_width": ""
     }
    },
    "769fe089d96c4dca98f1fc8e701071a1": {
     "model_module": "@jupyter-widgets/base",
     "model_name": "LayoutModel",
     "state": {
      "_model_module": "@jupyter-widgets/base",
      "_model_module_version": "1.2.0",
      "_model_name": "LayoutModel",
      "_view_count": null,
      "_view_module": "@jupyter-widgets/base",
      "_view_module_version": "1.2.0",
      "_view_name": "LayoutView",
      "align_content": null,
      "align_items": null,
      "align_self": null,
      "border": null,
      "bottom": null,
      "display": null,
      "flex": null,
      "flex_flow": null,
      "grid_area": null,
      "grid_auto_columns": null,
      "grid_auto_flow": null,
      "grid_auto_rows": null,
      "grid_column": null,
      "grid_gap": null,
      "grid_row": null,
      "grid_template_areas": null,
      "grid_template_columns": null,
      "grid_template_rows": null,
      "height": null,
      "justify_content": null,
      "justify_items": null,
      "left": null,
      "margin": null,
      "max_height": null,
      "max_width": null,
      "min_height": null,
      "min_width": null,
      "object_fit": null,
      "object_position": null,
      "order": null,
      "overflow": null,
      "overflow_x": null,
      "overflow_y": null,
      "padding": null,
      "right": null,
      "top": null,
      "visibility": null,
      "width": null
     }
    },
    "7bb81cbaf53246a58ed80c977da70efa": {
     "model_module": "@jupyter-widgets/controls",
     "model_name": "HBoxModel",
     "state": {
      "_dom_classes": [],
      "_model_module": "@jupyter-widgets/controls",
      "_model_module_version": "1.5.0",
      "_model_name": "HBoxModel",
      "_view_count": null,
      "_view_module": "@jupyter-widgets/controls",
      "_view_module_version": "1.5.0",
      "_view_name": "HBoxView",
      "box_style": "",
      "children": [
       "IPY_MODEL_ba5a6f8798884b0f85ce972311ba8148",
       "IPY_MODEL_d376701e51af4b8c8e74b7f176f9d8aa"
      ],
      "layout": "IPY_MODEL_40827c7bd5e74d86a25d67ab7ef446cc"
     }
    },
    "81ab37de63954b008d6bfd2dcf3b2acc": {
     "model_module": "@jupyter-widgets/base",
     "model_name": "LayoutModel",
     "state": {
      "_model_module": "@jupyter-widgets/base",
      "_model_module_version": "1.2.0",
      "_model_name": "LayoutModel",
      "_view_count": null,
      "_view_module": "@jupyter-widgets/base",
      "_view_module_version": "1.2.0",
      "_view_name": "LayoutView",
      "align_content": null,
      "align_items": null,
      "align_self": null,
      "border": null,
      "bottom": null,
      "display": null,
      "flex": null,
      "flex_flow": null,
      "grid_area": null,
      "grid_auto_columns": null,
      "grid_auto_flow": null,
      "grid_auto_rows": null,
      "grid_column": null,
      "grid_gap": null,
      "grid_row": null,
      "grid_template_areas": null,
      "grid_template_columns": null,
      "grid_template_rows": null,
      "height": null,
      "justify_content": null,
      "justify_items": null,
      "left": null,
      "margin": null,
      "max_height": null,
      "max_width": null,
      "min_height": null,
      "min_width": null,
      "object_fit": null,
      "object_position": null,
      "order": null,
      "overflow": null,
      "overflow_x": null,
      "overflow_y": null,
      "padding": null,
      "right": null,
      "top": null,
      "visibility": null,
      "width": null
     }
    },
    "92158caf8b2f44e49e2b065053e1071b": {
     "model_module": "@jupyter-widgets/base",
     "model_name": "LayoutModel",
     "state": {
      "_model_module": "@jupyter-widgets/base",
      "_model_module_version": "1.2.0",
      "_model_name": "LayoutModel",
      "_view_count": null,
      "_view_module": "@jupyter-widgets/base",
      "_view_module_version": "1.2.0",
      "_view_name": "LayoutView",
      "align_content": null,
      "align_items": null,
      "align_self": null,
      "border": null,
      "bottom": null,
      "display": null,
      "flex": null,
      "flex_flow": null,
      "grid_area": null,
      "grid_auto_columns": null,
      "grid_auto_flow": null,
      "grid_auto_rows": null,
      "grid_column": null,
      "grid_gap": null,
      "grid_row": null,
      "grid_template_areas": null,
      "grid_template_columns": null,
      "grid_template_rows": null,
      "height": null,
      "justify_content": null,
      "justify_items": null,
      "left": null,
      "margin": null,
      "max_height": null,
      "max_width": null,
      "min_height": null,
      "min_width": null,
      "object_fit": null,
      "object_position": null,
      "order": null,
      "overflow": null,
      "overflow_x": null,
      "overflow_y": null,
      "padding": null,
      "right": null,
      "top": null,
      "visibility": null,
      "width": null
     }
    },
    "9bd433551d694aa98f26299d8478bb57": {
     "model_module": "@jupyter-widgets/controls",
     "model_name": "HTMLModel",
     "state": {
      "_dom_classes": [],
      "_model_module": "@jupyter-widgets/controls",
      "_model_module_version": "1.5.0",
      "_model_name": "HTMLModel",
      "_view_count": null,
      "_view_module": "@jupyter-widgets/controls",
      "_view_module_version": "1.5.0",
      "_view_name": "HTMLView",
      "description": "",
      "description_tooltip": null,
      "layout": "IPY_MODEL_92158caf8b2f44e49e2b065053e1071b",
      "placeholder": "​",
      "style": "IPY_MODEL_572b6ac8cb0941b7899f66ce2643a51b",
      "value": " 268M/268M [00:04&lt;00:00, 58.8MB/s]"
     }
    },
    "a048e98b220c4d4293c17fe8555142e2": {
     "model_module": "@jupyter-widgets/controls",
     "model_name": "ProgressStyleModel",
     "state": {
      "_model_module": "@jupyter-widgets/controls",
      "_model_module_version": "1.5.0",
      "_model_name": "ProgressStyleModel",
      "_view_count": null,
      "_view_module": "@jupyter-widgets/base",
      "_view_module_version": "1.2.0",
      "_view_name": "StyleView",
      "bar_color": null,
      "description_width": "initial"
     }
    },
    "a99f3c5703b7444490d61f92cd01ed2d": {
     "model_module": "@jupyter-widgets/controls",
     "model_name": "FloatProgressModel",
     "state": {
      "_dom_classes": [],
      "_model_module": "@jupyter-widgets/controls",
      "_model_module_version": "1.5.0",
      "_model_name": "FloatProgressModel",
      "_view_count": null,
      "_view_module": "@jupyter-widgets/controls",
      "_view_module_version": "1.5.0",
      "_view_name": "ProgressView",
      "bar_style": "success",
      "description": "Downloading: 100%",
      "description_tooltip": null,
      "layout": "IPY_MODEL_4641e4bee6a04e878bc12ba41335cfc5",
      "max": 267967963,
      "min": 0,
      "orientation": "horizontal",
      "style": "IPY_MODEL_a048e98b220c4d4293c17fe8555142e2",
      "value": 267967963
     }
    },
    "b074f38544aa4dc7ab7eaf1042543684": {
     "model_module": "@jupyter-widgets/controls",
     "model_name": "ProgressStyleModel",
     "state": {
      "_model_module": "@jupyter-widgets/controls",
      "_model_module_version": "1.5.0",
      "_model_name": "ProgressStyleModel",
      "_view_count": null,
      "_view_module": "@jupyter-widgets/base",
      "_view_module_version": "1.2.0",
      "_view_name": "StyleView",
      "bar_color": null,
      "description_width": "initial"
     }
    },
    "ba5a6f8798884b0f85ce972311ba8148": {
     "model_module": "@jupyter-widgets/controls",
     "model_name": "FloatProgressModel",
     "state": {
      "_dom_classes": [],
      "_model_module": "@jupyter-widgets/controls",
      "_model_module_version": "1.5.0",
      "_model_name": "FloatProgressModel",
      "_view_count": null,
      "_view_module": "@jupyter-widgets/controls",
      "_view_module_version": "1.5.0",
      "_view_name": "ProgressView",
      "bar_style": "success",
      "description": "Downloading: 100%",
      "description_tooltip": null,
      "layout": "IPY_MODEL_d48020aebf644dc2bff188a2368c261e",
      "max": 442,
      "min": 0,
      "orientation": "horizontal",
      "style": "IPY_MODEL_b074f38544aa4dc7ab7eaf1042543684",
      "value": 442
     }
    },
    "c4265d3685ba4ac18462b0195fd5f2f0": {
     "model_module": "@jupyter-widgets/controls",
     "model_name": "HBoxModel",
     "state": {
      "_dom_classes": [],
      "_model_module": "@jupyter-widgets/controls",
      "_model_module_version": "1.5.0",
      "_model_name": "HBoxModel",
      "_view_count": null,
      "_view_module": "@jupyter-widgets/controls",
      "_view_module_version": "1.5.0",
      "_view_name": "HBoxView",
      "box_style": "",
      "children": [
       "IPY_MODEL_a99f3c5703b7444490d61f92cd01ed2d",
       "IPY_MODEL_9bd433551d694aa98f26299d8478bb57"
      ],
      "layout": "IPY_MODEL_d548fd4ead3e421ab37b8a644f414498"
     }
    },
    "cf0f0a28555349b0ac5c9e9905c177c1": {
     "model_module": "@jupyter-widgets/controls",
     "model_name": "DescriptionStyleModel",
     "state": {
      "_model_module": "@jupyter-widgets/controls",
      "_model_module_version": "1.5.0",
      "_model_name": "DescriptionStyleModel",
      "_view_count": null,
      "_view_module": "@jupyter-widgets/base",
      "_view_module_version": "1.2.0",
      "_view_name": "StyleView",
      "description_width": ""
     }
    },
    "d376701e51af4b8c8e74b7f176f9d8aa": {
     "model_module": "@jupyter-widgets/controls",
     "model_name": "HTMLModel",
     "state": {
      "_dom_classes": [],
      "_model_module": "@jupyter-widgets/controls",
      "_model_module_version": "1.5.0",
      "_model_name": "HTMLModel",
      "_view_count": null,
      "_view_module": "@jupyter-widgets/controls",
      "_view_module_version": "1.5.0",
      "_view_name": "HTMLView",
      "description": "",
      "description_tooltip": null,
      "layout": "IPY_MODEL_81ab37de63954b008d6bfd2dcf3b2acc",
      "placeholder": "​",
      "style": "IPY_MODEL_dff072a2ba7949b6924e9e9653b5150a",
      "value": " 442/442 [00:04&lt;00:00, 90.8B/s]"
     }
    },
    "d48020aebf644dc2bff188a2368c261e": {
     "model_module": "@jupyter-widgets/base",
     "model_name": "LayoutModel",
     "state": {
      "_model_module": "@jupyter-widgets/base",
      "_model_module_version": "1.2.0",
      "_model_name": "LayoutModel",
      "_view_count": null,
      "_view_module": "@jupyter-widgets/base",
      "_view_module_version": "1.2.0",
      "_view_name": "LayoutView",
      "align_content": null,
      "align_items": null,
      "align_self": null,
      "border": null,
      "bottom": null,
      "display": null,
      "flex": null,
      "flex_flow": null,
      "grid_area": null,
      "grid_auto_columns": null,
      "grid_auto_flow": null,
      "grid_auto_rows": null,
      "grid_column": null,
      "grid_gap": null,
      "grid_row": null,
      "grid_template_areas": null,
      "grid_template_columns": null,
      "grid_template_rows": null,
      "height": null,
      "justify_content": null,
      "justify_items": null,
      "left": null,
      "margin": null,
      "max_height": null,
      "max_width": null,
      "min_height": null,
      "min_width": null,
      "object_fit": null,
      "object_position": null,
      "order": null,
      "overflow": null,
      "overflow_x": null,
      "overflow_y": null,
      "padding": null,
      "right": null,
      "top": null,
      "visibility": null,
      "width": null
     }
    },
    "d548fd4ead3e421ab37b8a644f414498": {
     "model_module": "@jupyter-widgets/base",
     "model_name": "LayoutModel",
     "state": {
      "_model_module": "@jupyter-widgets/base",
      "_model_module_version": "1.2.0",
      "_model_name": "LayoutModel",
      "_view_count": null,
      "_view_module": "@jupyter-widgets/base",
      "_view_module_version": "1.2.0",
      "_view_name": "LayoutView",
      "align_content": null,
      "align_items": null,
      "align_self": null,
      "border": null,
      "bottom": null,
      "display": null,
      "flex": null,
      "flex_flow": null,
      "grid_area": null,
      "grid_auto_columns": null,
      "grid_auto_flow": null,
      "grid_auto_rows": null,
      "grid_column": null,
      "grid_gap": null,
      "grid_row": null,
      "grid_template_areas": null,
      "grid_template_columns": null,
      "grid_template_rows": null,
      "height": null,
      "justify_content": null,
      "justify_items": null,
      "left": null,
      "margin": null,
      "max_height": null,
      "max_width": null,
      "min_height": null,
      "min_width": null,
      "object_fit": null,
      "object_position": null,
      "order": null,
      "overflow": null,
      "overflow_x": null,
      "overflow_y": null,
      "padding": null,
      "right": null,
      "top": null,
      "visibility": null,
      "width": null
     }
    },
    "dff072a2ba7949b6924e9e9653b5150a": {
     "model_module": "@jupyter-widgets/controls",
     "model_name": "DescriptionStyleModel",
     "state": {
      "_model_module": "@jupyter-widgets/controls",
      "_model_module_version": "1.5.0",
      "_model_name": "DescriptionStyleModel",
      "_view_count": null,
      "_view_module": "@jupyter-widgets/base",
      "_view_module_version": "1.2.0",
      "_view_name": "StyleView",
      "description_width": ""
     }
    },
    "e636c25da2a7435aac0d4da1d82116e9": {
     "model_module": "@jupyter-widgets/controls",
     "model_name": "HTMLModel",
     "state": {
      "_dom_classes": [],
      "_model_module": "@jupyter-widgets/controls",
      "_model_module_version": "1.5.0",
      "_model_name": "HTMLModel",
      "_view_count": null,
      "_view_module": "@jupyter-widgets/controls",
      "_view_module_version": "1.5.0",
      "_view_name": "HTMLView",
      "description": "",
      "description_tooltip": null,
      "layout": "IPY_MODEL_169b03c1d256403388c54f094d15b7ac",
      "placeholder": "​",
      "style": "IPY_MODEL_cf0f0a28555349b0ac5c9e9905c177c1",
      "value": " 232k/232k [00:00&lt;00:00, 1.44MB/s]"
     }
    },
    "ea5d6a9d85a749afb9ca333d35b7da15": {
     "model_module": "@jupyter-widgets/controls",
     "model_name": "HBoxModel",
     "state": {
      "_dom_classes": [],
      "_model_module": "@jupyter-widgets/controls",
      "_model_module_version": "1.5.0",
      "_model_name": "HBoxModel",
      "_view_count": null,
      "_view_module": "@jupyter-widgets/controls",
      "_view_module_version": "1.5.0",
      "_view_name": "HBoxView",
      "box_style": "",
      "children": [
       "IPY_MODEL_17e6743d373c47cf981dc12e985c7d08",
       "IPY_MODEL_e636c25da2a7435aac0d4da1d82116e9"
      ],
      "layout": "IPY_MODEL_45b3e61b0abe458f877765fd403372f3"
     }
    },
    "ee4d1f70124043f4b6c6ddc7ce88d07a": {
     "model_module": "@jupyter-widgets/controls",
     "model_name": "ProgressStyleModel",
     "state": {
      "_model_module": "@jupyter-widgets/controls",
      "_model_module_version": "1.5.0",
      "_model_name": "ProgressStyleModel",
      "_view_count": null,
      "_view_module": "@jupyter-widgets/base",
      "_view_module_version": "1.2.0",
      "_view_name": "StyleView",
      "bar_color": null,
      "description_width": "initial"
     }
    }
   }
  }
 },
 "nbformat": 4,
 "nbformat_minor": 1
}
