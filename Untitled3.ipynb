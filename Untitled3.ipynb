{
 "cells": [
  {
   "cell_type": "code",
   "execution_count": 1,
   "metadata": {},
   "outputs": [
    {
     "data": {
      "text/plain": [
       "['OUN',\n",
       " 'cancels',\n",
       " 'Severe',\n",
       " 'Thunderstorm',\n",
       " 'Warning',\n",
       " 'for',\n",
       " 'Lincoln',\n",
       " 'Logan',\n",
       " 'Oklahoma',\n",
       " '[OK]',\n",
       " 'http://t.co/bTi8JAMFiu',\n",
       " '#WX',\n",
       " 'thunderstorm',\n",
       " 'United',\n",
       " 'States']"
      ]
     },
     "execution_count": 1,
     "metadata": {},
     "output_type": "execute_result"
    }
   ],
   "source": [
    "l = \"OUN cancels Severe Thunderstorm Warning for Lincoln Logan Oklahoma [OK]  http://t.co/bTi8JAMFiu #WX thunderstorm United States\"\n",
    "l.split()"
   ]
  }
 ],
 "metadata": {
  "kernelspec": {
   "display_name": "Python 3",
   "language": "python",
   "name": "python3"
  },
  "language_info": {
   "codemirror_mode": {
    "name": "ipython",
    "version": 3
   },
   "file_extension": ".py",
   "mimetype": "text/x-python",
   "name": "python",
   "nbconvert_exporter": "python",
   "pygments_lexer": "ipython3",
   "version": "3.7.4"
  }
 },
 "nbformat": 4,
 "nbformat_minor": 2
}
